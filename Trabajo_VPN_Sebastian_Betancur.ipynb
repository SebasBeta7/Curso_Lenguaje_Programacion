{
  "nbformat": 4,
  "nbformat_minor": 0,
  "metadata": {
    "colab": {
      "provenance": []
    },
    "kernelspec": {
      "name": "python3",
      "display_name": "Python 3"
    },
    "language_info": {
      "name": "python"
    }
  },
  "cells": [
    {
      "cell_type": "code",
      "execution_count": null,
      "metadata": {
        "id": "w-XXUkS8MbvE"
      },
      "outputs": [],
      "source": []
    },
    {
      "cell_type": "markdown",
      "source": [
        "# Valor Presente Neto\n",
        "\n",
        "### 1. ¿Qué es el Valor Presente Neto (VPN)?\n",
        "El Valor Presente Neto (VPN) es una técnica financiera utilizada para evaluar la rentabilidad de un proyecto o inversión. Se obtiene descontando los flujos de caja futuros a su valor presente y restando la inversión inicial.\n",
        "\n",
        "\n"
      ],
      "metadata": {
        "id": "R4hDoBXZNQbQ"
      }
    },
    {
      "cell_type": "markdown",
      "source": [
        "### 2. Fórmula del VPN\n",
        "La fórmula general del VPN es:\n",
        "\n",
        "$$VPN = \\sum_{t=1}^{n} (\\frac{FC_t}{(1 + r)^t}) - \\text{Inversión Inicial}$$\n",
        "\n",
        "Donde:\n",
        "- **FC_t**: Flujo de caja en el periodo t\n",
        "- **r**: Tasa de descuento\n",
        "- **t**: Periodo de tiempo\n",
        "- **Inversión**: Costo inicial del proyecto\n",
        "\n",
        "\n"
      ],
      "metadata": {
        "id": "TCZAeLPeQ6C2"
      }
    },
    {
      "cell_type": "markdown",
      "source": [
        "[Referencia](https://creze.com/finanzas/como-calcular-el-valor-presente-neto-vpn/)\n"
      ],
      "metadata": {
        "id": "ecgVaPSmTQQ3"
      }
    },
    {
      "cell_type": "markdown",
      "source": [
        "### 3. Pasos para calcular el VPN\n",
        "1. Definir el número de periodos del proyecto\n",
        "2. Identificar los flujos de caja proyectados del proyecto.\n",
        "3. Definir la tasa de descuento adecuada.\n",
        "4. Aplicar la fórmula del VPN sumando los valores presentes de los flujos de caja y restando la inversión inicial.\n",
        "5. Interpretar el resultado obtenido:\n",
        "   - Si el **VPN es positivo**, el proyecto es rentable y se recomienda aceptarlo.\n",
        "   - Si el **VPN es negativo**, el proyecto no es viable financieramente."
      ],
      "metadata": {
        "id": "1qi3SaL5Q7D9"
      }
    },
    {
      "cell_type": "markdown",
      "source": [
        "### 4. Ejemplo de cálculo\n",
        "Supongamos que un proyecto tiene los siguientes datos:\n",
        "- **Flujos de caja proyectados**: 5000, 7000, 10000, 12000\n",
        "- **Inversión inicial**: 15,000\n",
        "- **Tasa de descuento**: 8% (0.08 en decimal)"
      ],
      "metadata": {
        "id": "tljowHKKSfZf"
      }
    },
    {
      "cell_type": "code",
      "source": [
        "\n",
        "inversion_inicial = 10000  # Monto de inversión inicial\n",
        "flujo_de_caja1 = 5000  # Flujos de caja proyectados\n",
        "flujo_de_caja2 = 7000\n",
        "flujo_de_caja3 = 10000\n",
        "flujo_de_caja4 = 12000\n",
        "\n",
        "tasa_descuento = 0.08  # Tasa de descuento\n",
        "\n",
        "\n",
        "# Cálculo del VPN\n",
        "\n",
        "vpn = (flujo_de_caja1 / (1 + tasa_descuento) ** 1) + \\\n",
        "    (flujo_de_caja2 / (1 + tasa_descuento) ** 2) + \\\n",
        "    (flujo_de_caja3 / (1 + tasa_descuento) ** 3) + \\\n",
        "     (flujo_de_caja4 / (1 + tasa_descuento) ** 4) - inversion_inicial\n",
        "\n",
        "print(f\"El Valor Presente Neto (VPN) es: ${vpn:.2f}\")\n",
        "\n"
      ],
      "metadata": {
        "colab": {
          "base_uri": "https://localhost:8080/"
        },
        "id": "MCr5lIJqVTPb",
        "outputId": "eed0ca8c-9349-4d6e-e7a2-3995b5bba0b0"
      },
      "execution_count": 5,
      "outputs": [
        {
          "output_type": "stream",
          "name": "stdout",
          "text": [
            "El Valor Presente Neto (VPN) es: $17389.68\n"
          ]
        }
      ]
    },
    {
      "cell_type": "code",
      "source": [
        "if vpn > 0:\n",
        "    print(\"El proyecto es viable, ya que el VPN es positivo.\")\n",
        "elif vpn < 0:\n",
        "    print(\"El proyecto no es viable, ya que el VPN es negativo.\")\n"
      ],
      "metadata": {
        "colab": {
          "base_uri": "https://localhost:8080/"
        },
        "id": "0bXUk_2iVos9",
        "outputId": "5efc116a-df98-44e8-a34c-c855fe6c50d0"
      },
      "execution_count": 7,
      "outputs": [
        {
          "output_type": "stream",
          "name": "stdout",
          "text": [
            "El proyecto es viable, ya que el VPN es positivo.\n"
          ]
        }
      ]
    },
    {
      "cell_type": "markdown",
      "source": [
        "### 5. Conclusión\n",
        "El Valor Presente Neto es una herramienta fundamental en la toma de decisiones financieras, ya que permite determinar si un proyecto generará valor o no. Su correcta aplicación es clave para evaluar inversiones de manera objetiva.\n"
      ],
      "metadata": {
        "id": "Nv3nT3LlUqnk"
      }
    }
  ]
}