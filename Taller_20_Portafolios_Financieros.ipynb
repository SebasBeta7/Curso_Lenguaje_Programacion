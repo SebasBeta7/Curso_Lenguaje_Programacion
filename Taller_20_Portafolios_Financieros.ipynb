{
  "nbformat": 4,
  "nbformat_minor": 0,
  "metadata": {
    "colab": {
      "provenance": [],
      "authorship_tag": "ABX9TyNDBMY147E6JyOGWZHaJbjW",
      "include_colab_link": true
    },
    "kernelspec": {
      "name": "python3",
      "display_name": "Python 3"
    },
    "language_info": {
      "name": "python"
    }
  },
  "cells": [
    {
      "cell_type": "markdown",
      "metadata": {
        "id": "view-in-github",
        "colab_type": "text"
      },
      "source": [
        "<a href=\"https://colab.research.google.com/github/SebasBeta7/Curso_Lenguaje_Programacion/blob/main/Taller_20_Portafolios_Financieros.ipynb\" target=\"_parent\"><img src=\"https://colab.research.google.com/assets/colab-badge.svg\" alt=\"Open In Colab\"/></a>"
      ]
    },
    {
      "cell_type": "markdown",
      "source": [
        "Listas con los datos de los clientes"
      ],
      "metadata": {
        "id": "Oh-kSEQ16Fkb"
      }
    },
    {
      "cell_type": "code",
      "execution_count": null,
      "metadata": {
        "id": "L5mtdoXA5gbU"
      },
      "outputs": [],
      "source": [
        "clientes = [\"Juan Perez\", \"Maria Rodriguez\", \"Carlos Lopez\", \"Ana Gomez\"]\n",
        "montos_invertidos = [10000, 15000, 20000, 18000]\n",
        "rendimientos = [5.5, 6.0, 4.0, 7.5]"
      ]
    },
    {
      "cell_type": "markdown",
      "source": [
        "Creación de tuplas para cada cliente"
      ],
      "metadata": {
        "id": "WImDL0BO6Llx"
      }
    },
    {
      "cell_type": "code",
      "source": [
        "\n",
        "cliente_1 = (clientes[0], montos_invertidos[0], rendimientos[0])\n",
        "cliente_2 = (clientes[1], montos_invertidos[1], rendimientos[1])\n",
        "cliente_3 = (clientes[2], montos_invertidos[2], rendimientos[2])\n",
        "cliente_4 = (clientes[3], montos_invertidos[3], rendimientos[3])"
      ],
      "metadata": {
        "id": "1L9Bfvrq6NQh"
      },
      "execution_count": null,
      "outputs": []
    },
    {
      "cell_type": "code",
      "source": [
        "\n",
        "print(\"Datos del cliente 1:\", cliente_1)\n",
        "print(\"Datos del cliente 2:\", cliente_2)\n",
        "print(\"Datos del cliente 3:\", cliente_3)\n",
        "print(\"Datos del cliente 4:\", cliente_4)"
      ],
      "metadata": {
        "colab": {
          "base_uri": "https://localhost:8080/"
        },
        "id": "ia09lQFl7ToZ",
        "outputId": "5fff3578-0da8-4bbe-8b6e-4b85d65ff5ea"
      },
      "execution_count": null,
      "outputs": [
        {
          "output_type": "stream",
          "name": "stdout",
          "text": [
            "Datos del cliente 1: ('Juan Perez', 10000, 5.5)\n",
            "Datos del cliente 2: ('Maria Rodriguez', 15000, 6.0)\n",
            "Datos del cliente 3: ('Carlos Lopez', 20000, 4.0)\n",
            "Datos del cliente 4: ('Ana Gomez', 18000, 7.5)\n"
          ]
        }
      ]
    },
    {
      "cell_type": "markdown",
      "source": [
        "Diccionario"
      ],
      "metadata": {
        "id": "XbCsyDSFFj0n"
      }
    },
    {
      "cell_type": "code",
      "source": [
        "portafolio = {\n",
        "\"Juan Perez\": {\"monto_invertido\": 10000, \"rendimiento\": 5.5},\n",
        "\"Maria Rodriguez\": {\"monto_invertido\": 15000, \"rendimiento\": 6.0},\n",
        "\"Carlos Lopez\": {\"monto_invertido\": 20000, \"rendimiento\": 4.0},\n",
        "\"Ana Gomez\": {\"monto_invertido\": 18000, \"rendimiento\": 7.5}\n",
        "}"
      ],
      "metadata": {
        "id": "xe6T3gdE73tI"
      },
      "execution_count": null,
      "outputs": []
    },
    {
      "cell_type": "markdown",
      "source": [
        "Rendimiento de los clientes"
      ],
      "metadata": {
        "id": "s4VfUUSKFp7J"
      }
    },
    {
      "cell_type": "code",
      "source": [
        "print(\"\\nClientes con rendimiento superior al 5%:\")\n",
        "for cliente, datos in portafolio.items():\n",
        "    if datos[\"rendimiento\"] > 5:\n",
        "        print(f\"- {cliente}: {datos['rendimiento']}%\")"
      ],
      "metadata": {
        "colab": {
          "base_uri": "https://localhost:8080/"
        },
        "id": "lwS3lz-w8JLf",
        "outputId": "acaba760-2d13-4781-a0bb-4aef62332801"
      },
      "execution_count": null,
      "outputs": [
        {
          "output_type": "stream",
          "name": "stdout",
          "text": [
            "\n",
            "Clientes con rendimiento superior al 5%:\n",
            "- Juan Perez: 5.5%\n",
            "- Maria Rodriguez: 6.0%\n",
            "- Ana Gomez: 7.5%\n"
          ]
        }
      ]
    },
    {
      "cell_type": "markdown",
      "source": [
        "Rendimiento Total del Portafolio"
      ],
      "metadata": {
        "id": "dkkdt9jv9Y6P"
      }
    },
    {
      "cell_type": "code",
      "source": [
        "rendimiento_total = 0\n",
        "\n",
        "for cliente, datos in portafolio.items():\n",
        "    rendimiento_cliente = (datos[\"monto_invertido\"] * datos[\"rendimiento\"]) / 100\n",
        "    rendimiento_total += rendimiento_cliente\n",
        "\n",
        "print(f\"\\nEl rendimiento total del portafolio es: ${rendimiento_total:.2f}\")"
      ],
      "metadata": {
        "colab": {
          "base_uri": "https://localhost:8080/"
        },
        "id": "p-CYKAK88_mG",
        "outputId": "17b65562-c890-4236-a4c3-ceb385952bf0"
      },
      "execution_count": null,
      "outputs": [
        {
          "output_type": "stream",
          "name": "stdout",
          "text": [
            "\n",
            "El rendimiento total del portafolio es: $3600.00\n"
          ]
        }
      ]
    },
    {
      "cell_type": "markdown",
      "source": [
        "Cliente con Mayor Rendimiento"
      ],
      "metadata": {
        "id": "HXfGEq0x9aYu"
      }
    },
    {
      "cell_type": "code",
      "source": [
        "cliente_mayor_rendimiento = \"\"\n",
        "mayor_rendimiento = 0\n",
        "\n",
        "for cliente, datos in portafolio.items():\n",
        "    rendimiento_absoluto = (datos[\"monto_invertido\"] * datos[\"rendimiento\"]) / 100\n",
        "    if rendimiento_absoluto > mayor_rendimiento:\n",
        "        mayor_rendimiento = rendimiento_absoluto\n",
        "        cliente_mayor_rendimiento = cliente\n",
        "\n",
        "print(f\"\\nEl cliente con mayor rendimiento absoluto es: {cliente_mayor_rendimiento}\")\n",
        "print(f\"Con un rendimiento de: ${mayor_rendimiento:.2f}\")"
      ],
      "metadata": {
        "colab": {
          "base_uri": "https://localhost:8080/"
        },
        "id": "eqkbb0wl9Vtn",
        "outputId": "0aa7760d-2cac-4a09-d825-876db7a5c173"
      },
      "execution_count": null,
      "outputs": [
        {
          "output_type": "stream",
          "name": "stdout",
          "text": [
            "\n",
            "El cliente con mayor rendimiento absoluto es: Ana Gomez\n",
            "Con un rendimiento de: $1350.00\n"
          ]
        }
      ]
    },
    {
      "cell_type": "markdown",
      "source": [
        "Actualizar el monto invertido de Carlos Lopez"
      ],
      "metadata": {
        "id": "uv5ZcnjU-xsw"
      }
    },
    {
      "cell_type": "code",
      "source": [
        "portafolio[\"Carlos Lopez\"][\"monto_invertido\"] = 25000\n",
        "print(\"\\nSe actualizó el monto de Carlos Lopez a $25,000\")"
      ],
      "metadata": {
        "colab": {
          "base_uri": "https://localhost:8080/"
        },
        "id": "y6tW_f4W-6ym",
        "outputId": "7ad77893-9eab-4fcf-d5b3-dffa68708038"
      },
      "execution_count": null,
      "outputs": [
        {
          "output_type": "stream",
          "name": "stdout",
          "text": [
            "\n",
            "Se actualizó el monto de Carlos Lopez a $25,000\n"
          ]
        }
      ]
    },
    {
      "cell_type": "markdown",
      "source": [
        "Añadir nueva cliente Laura Fernandez"
      ],
      "metadata": {
        "id": "WdPW7y36_AV2"
      }
    },
    {
      "cell_type": "code",
      "source": [
        "portafolio[\"Laura Fernandez\"] = {\"monto_invertido\": 22000, \"rendimiento\": 6.8}\n",
        "print(\"Se agregó a Laura Fernandez con inversión de $22,000 y rendimiento del 6.8%\")"
      ],
      "metadata": {
        "colab": {
          "base_uri": "https://localhost:8080/"
        },
        "id": "BwRWojPT-_gm",
        "outputId": "a455644f-2fd7-4bb5-b2ed-eb3d01e7cf6d"
      },
      "execution_count": null,
      "outputs": [
        {
          "output_type": "stream",
          "name": "stdout",
          "text": [
            "Se agregó a Laura Fernandez con inversión de $22,000 y rendimiento del 6.8%\n"
          ]
        }
      ]
    },
    {
      "cell_type": "markdown",
      "source": [
        "Remover a Ana Gomez del portafolio"
      ],
      "metadata": {
        "id": "naFC3iAM_MEP"
      }
    },
    {
      "cell_type": "code",
      "source": [
        "del portafolio[\"Ana Gomez\"]\n",
        "print(\"Se removió a Ana Gomez del portafolio\")"
      ],
      "metadata": {
        "colab": {
          "base_uri": "https://localhost:8080/"
        },
        "id": "Yt4HXT6O-_dO",
        "outputId": "4c877ffa-e71c-4f31-9d3b-7ce3866a81d8"
      },
      "execution_count": null,
      "outputs": [
        {
          "output_type": "stream",
          "name": "stdout",
          "text": [
            "Se removió a Ana Gomez del portafolio\n"
          ]
        }
      ]
    },
    {
      "cell_type": "markdown",
      "source": [
        "Portafolio Actualizado"
      ],
      "metadata": {
        "id": "WoIkzSVk_mJ3"
      }
    },
    {
      "cell_type": "code",
      "source": [
        "print(\"\\nPortafolio actualizado:\")\n",
        "for cliente, datos in portafolio.items():\n",
        "    print(f\"- {cliente}: Inversión: ${datos['monto_invertido']:,}, Rendimiento: {datos['rendimiento']}%\")\n"
      ],
      "metadata": {
        "colab": {
          "base_uri": "https://localhost:8080/"
        },
        "id": "S9ZFBh_h_VQX",
        "outputId": "a075c6c5-6cef-4f67-97d8-5ab5f12d19fd"
      },
      "execution_count": null,
      "outputs": [
        {
          "output_type": "stream",
          "name": "stdout",
          "text": [
            "\n",
            "Portafolio actualizado:\n",
            "- Juan Perez: Inversión: $10,000, Rendimiento: 5.5%\n",
            "- Maria Rodriguez: Inversión: $15,000, Rendimiento: 6.0%\n",
            "- Carlos Lopez: Inversión: $25,000, Rendimiento: 4.0%\n",
            "- Laura Fernandez: Inversión: $22,000, Rendimiento: 6.8%\n"
          ]
        }
      ]
    },
    {
      "cell_type": "code",
      "source": [],
      "metadata": {
        "id": "fxPWP8_z_tNA"
      },
      "execution_count": null,
      "outputs": []
    }
  ]
}